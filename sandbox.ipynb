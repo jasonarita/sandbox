{
 "cells": [
  {
   "cell_type": "markdown",
   "metadata": {},
   "source": [
    "# Welcome to the Sandbox!!"
   ]
  },
  {
   "cell_type": "markdown",
   "metadata": {},
   "source": [
    "[Advanced Jupyter Notebook Tricks - Part I](http://blog.dominodatalab.com/lesser-known-ways-of-using-notebooks/)\n",
    "\n",
    "command |description |\n",
    "----:|:----\n",
    "`% lsmagic`| list all available magics\n",
    "`% matplotlib inline` | display plots in notebook\n",
    "`!` |\n",
    "`%%bash`|run Unix shell (i.e. bash) commands\n",
    "\n",
    " "
   ]
  },
  {
   "cell_type": "code",
   "execution_count": null,
   "metadata": {
    "collapsed": false
   },
   "outputs": [],
   "source": [
    "%%bash\n",
    "\n",
    "pwd\n",
    "\n"
   ]
  },
  {
   "cell_type": "code",
   "execution_count": null,
   "metadata": {
    "collapsed": true
   },
   "outputs": [],
   "source": [
    "%quickref"
   ]
  },
  {
   "cell_type": "code",
   "execution_count": null,
   "metadata": {
    "collapsed": false
   },
   "outputs": [],
   "source": [
    "%whos"
   ]
  },
  {
   "cell_type": "code",
   "execution_count": null,
   "metadata": {
    "collapsed": false
   },
   "outputs": [],
   "source": [
    "%timeit\n",
    "import pandas as pd"
   ]
  },
  {
   "cell_type": "code",
   "execution_count": null,
   "metadata": {
    "collapsed": false
   },
   "outputs": [],
   "source": [
    "%%system\n",
    "\n",
    "ls"
   ]
  },
  {
   "cell_type": "code",
   "execution_count": null,
   "metadata": {
    "collapsed": false
   },
   "outputs": [],
   "source": [
    "!ls"
   ]
  },
  {
   "cell_type": "code",
   "execution_count": null,
   "metadata": {
    "collapsed": false
   },
   "outputs": [],
   "source": [
    "!pwd"
   ]
  },
  {
   "cell_type": "code",
   "execution_count": null,
   "metadata": {
    "collapsed": false,
    "scrolled": true
   },
   "outputs": [],
   "source": [
    "%%bash\n",
    "\n",
    "conda update conda"
   ]
  },
  {
   "cell_type": "code",
   "execution_count": 2,
   "metadata": {
    "collapsed": false
   },
   "outputs": [
    {
     "name": "stdout",
     "output_type": "stream",
     "text": [
      "Unlinking /usr/local/Cellar/zeromq/4.1.3... "
     ]
    },
    {
     "name": "stderr",
     "output_type": "stream",
     "text": [
      "usage: sudo -h | -K | -k | -L | -V\n",
      "usage: sudo -v [-AknS] [-g groupname|#gid] [-p prompt] [-u user name|#uid]\n",
      "usage: sudo -l[l] [-AknS] [-g groupname|#gid] [-p prompt] [-U user name] [-u\n",
      "            user name|#uid] [-g groupname|#gid] [command]\n",
      "usage: sudo [-AbEHknPS] [-C fd] [-g groupname|#gid] [-p prompt] [-u user\n",
      "            name|#uid] [-g groupname|#gid] [VAR=value] [-i|-s] [<command>]\n",
      "usage: sudo -e [-AknS] [-C fd] [-g groupname|#gid] [-p prompt] [-u user\n",
      "            name|#uid] file ...\n",
      "Error: Permission denied - /usr/local/bin/curve_keygen\n",
      "error: unable to unlink old 'bin/brew' (Permission denied)\n",
      "Error: Failure while executing: git pull --ff --no-rebase --quiet origin refs/heads/master:refs/remotes/origin/master\n",
      "Warning: zeromq-4.1.3 already installed\n"
     ]
    }
   ],
   "source": [
    "%%bash\n",
    "sudo\n",
    "brew unlink zeromq\n",
    "brew update\n",
    "brew install zeromq"
   ]
  },
  {
   "cell_type": "code",
   "execution_count": 3,
   "metadata": {
    "collapsed": false
   },
   "outputs": [
    {
     "data": {
      "text/html": [
       "\n",
       "<!DOCTYPE html>\n",
       "<html> \n",
       "    <head> \n",
       "        <!--meta-data (like page title, inclusion of other files) -->\n",
       "      <link rel='stylesheet' type='text/css' href='style.css'></link>\n",
       "    \n",
       "    </head> \n",
       "  \n",
       "    <body> \n",
       "      <h1>Introduction</h1>\n",
       "     \n",
       " \t\t<!-- <svg>\n",
       "        <circle class=\"prettycircle\"; cx=\"75\"; cy=\"75\"; r=\"60\">\n",
       "        </circle>\n",
       "        <rect class=\"darkblue\"; x=\"100\"; y=\"100\"></rect>\n",
       "      </svg>\n",
       "       >\n",
       "        \n",
       "        \n",
       "      <div id=\"chart_area\"></div>\n",
       "\n",
       "      \n",
       "      <script src=\"http://d3js.org/d3.v3.min.js\"></script>\n",
       "      <script src=\"main.js\"></script>\n",
       "\n",
       "    </body> \n",
       "  \n",
       "</html> "
      ],
      "text/plain": [
       "<IPython.core.display.HTML object>"
      ]
     },
     "metadata": {},
     "output_type": "display_data"
    }
   ],
   "source": [
    "%%html\n",
    "\n",
    "<!DOCTYPE html>\n",
    "<html> \n",
    "    <head> \n",
    "        <!--meta-data (like page title, inclusion of other files) -->\n",
    "      <link rel='stylesheet' type='text/css' href='style.css'></link>\n",
    "    \n",
    "    </head> \n",
    "  \n",
    "    <body> \n",
    "      <h1>Introduction</h1>\n",
    "     \n",
    " \t\t<!-- <svg>\n",
    "        <circle class=\"prettycircle\"; cx=\"75\"; cy=\"75\"; r=\"60\">\n",
    "        </circle>\n",
    "        <rect class=\"darkblue\"; x=\"100\"; y=\"100\"></rect>\n",
    "      </svg>\n",
    "       >\n",
    "        \n",
    "        \n",
    "      <div id=\"chart_area\"></div>\n",
    "\n",
    "      \n",
    "      <script src=\"http://d3js.org/d3.v3.min.js\"></script>\n",
    "      <script src=\"main.js\"></script>\n",
    "\n",
    "    </body> \n",
    "  \n",
    "</html> "
   ]
  },
  {
   "cell_type": "code",
   "execution_count": null,
   "metadata": {
    "collapsed": true
   },
   "outputs": [],
   "source": []
  }
 ],
 "metadata": {
  "kernelspec": {
   "display_name": "Python 2",
   "language": "python",
   "name": "python2"
  },
  "language_info": {
   "codemirror_mode": {
    "name": "ipython",
    "version": 2
   },
   "file_extension": ".py",
   "mimetype": "text/x-python",
   "name": "python",
   "nbconvert_exporter": "python",
   "pygments_lexer": "ipython2",
   "version": "2.7.10"
  }
 },
 "nbformat": 4,
 "nbformat_minor": 0
}
